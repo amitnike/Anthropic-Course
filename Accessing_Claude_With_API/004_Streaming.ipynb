{
 "cells": [
  {
   "cell_type": "code",
   "execution_count": 2,
   "id": "88ff6e3d-8845-4866-bc7c-f92c248a5d49",
   "metadata": {},
   "outputs": [
    {
     "data": {
      "text/plain": [
       "True"
      ]
     },
     "execution_count": 2,
     "metadata": {},
     "output_type": "execute_result"
    }
   ],
   "source": [
    "#load environment variables\n",
    "from dotenv import load_dotenv  \n",
    "load_dotenv()"
   ]
  },
  {
   "cell_type": "code",
   "execution_count": 3,
   "id": "bbd8becc",
   "metadata": {},
   "outputs": [],
   "source": [
    "#Create API client\n",
    "from anthropic import Anthropic\n",
    "client = Anthropic()\n",
    "model = \"claude-sonnet-4-0\"\n"
   ]
  },
  {
   "cell_type": "code",
   "execution_count": 5,
   "id": "be872d17",
   "metadata": {},
   "outputs": [],
   "source": [
    "#helper method to add user messages\n",
    "def add_user_message(messages, text):\n",
    "    user_message = {\"role\": \"user\", \"content\": text}\n",
    "    messages.append(user_message)\n",
    "\n",
    "#helper method to add assistant messages\n",
    "def add_assistant_message(messages, text):\n",
    "    assistant_message = {\"role\": \"assistant\", \"content\": text}\n",
    "    messages.append(assistant_message)\n",
    "\n",
    "#Make a request to the API\n",
    "def chat(messages,system=None,temperature=1.0):\n",
    "    params ={\n",
    "        \"model\": model,\n",
    "        \"max_tokens\": 1000,\n",
    "        \"messages\": messages,\n",
    "        \"temperature\": temperature\n",
    "    }\n",
    "\n",
    "    if system:\n",
    "        params[\"system\"] = system\n",
    "\n",
    "    response = client.messages.create(**params)\n",
    "    return response.content[0].text  # Return the text of the first message in the response\n",
    "\n",
    "#Usage of system Prompts"
   ]
  },
  {
   "cell_type": "code",
   "execution_count": null,
   "id": "33b95086",
   "metadata": {},
   "outputs": [],
   "source": [
    "#No chat used here\n",
    "# Start with an empty message list\n",
    "messages = []\n",
    "\n",
    "add_user_message(\n",
    "    messages,\n",
    "    \"Generate a one sentence bollywood movie idea\")\n",
    "\n",
    "stream = client.messages.create(\n",
    "    model=model,\n",
    "    max_tokens=1000,\n",
    "    messages=messages,\n",
    "    stream=True\n",
    ")\n",
    "\n",
    "for event in stream:\n",
    "    print(event)\n"
   ]
  },
  {
   "cell_type": "code",
   "execution_count": null,
   "id": "a3e41053",
   "metadata": {},
   "outputs": [
    {
     "name": "stdout",
     "output_type": "stream",
     "text": [
      "A street-smart Mumbai taxi driver discovers he's the reincarnated warrior destined to save both the mortal world and the realm of the gods, but only if he can win back his estranged childhood love who's now engaged to his wealthy rival."
     ]
    },
    {
     "data": {
      "text/plain": [
       "Message(id='msg_01GstbiAs1vqi3E74wzUbnwX', content=[TextBlock(citations=None, text=\"A street-smart Mumbai taxi driver discovers he's the reincarnated warrior destined to save both the mortal world and the realm of the gods, but only if he can win back his estranged childhood love who's now engaged to his wealthy rival.\", type='text')], model='claude-sonnet-4-20250514', role='assistant', stop_reason='end_turn', stop_sequence=None, type='message', usage=Usage(cache_creation_input_tokens=0, cache_read_input_tokens=0, input_tokens=15, output_tokens=57, server_tool_use=None, service_tier='standard'))"
      ]
     },
     "execution_count": 9,
     "metadata": {},
     "output_type": "execute_result"
    }
   ],
   "source": [
    "# Alternative usage of streaming to show the text as it comes in\n",
    "messages = []\n",
    "\n",
    "add_user_message(\n",
    "    messages,\n",
    "    \"Generate a one sentence bollywood movie idea\")\n",
    "\n",
    "with client.messages.stream(\n",
    "    model=model,\n",
    "    max_tokens=1000,\n",
    "    messages=messages\n",
    ") as stream:\n",
    "    for text in stream.text_stream:\n",
    "        print(text,end='')\n",
    "\n",
    "# optional to get final message after streaming\n",
    "stream.get_final_message()"
   ]
  }
 ],
 "metadata": {
  "kernelspec": {
   "display_name": "base",
   "language": "python",
   "name": "python3"
  },
  "language_info": {
   "codemirror_mode": {
    "name": "ipython",
    "version": 3
   },
   "file_extension": ".py",
   "mimetype": "text/x-python",
   "name": "python",
   "nbconvert_exporter": "python",
   "pygments_lexer": "ipython3",
   "version": "3.12.7"
  }
 },
 "nbformat": 4,
 "nbformat_minor": 5
}
