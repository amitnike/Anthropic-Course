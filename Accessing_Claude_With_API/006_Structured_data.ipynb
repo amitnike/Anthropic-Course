{
 "cells": [
  {
   "cell_type": "code",
   "execution_count": null,
   "id": "88ff6e3d-8845-4866-bc7c-f92c248a5d49",
   "metadata": {},
   "outputs": [],
   "source": [
    "#load environment variables\n",
    "from dotenv import load_dotenv  \n",
    "load_dotenv()"
   ]
  },
  {
   "cell_type": "code",
   "execution_count": 2,
   "id": "bbd8becc",
   "metadata": {},
   "outputs": [],
   "source": [
    "#Create API client\n",
    "from anthropic import Anthropic\n",
    "client = Anthropic()\n",
    "model = \"claude-sonnet-4-0\"\n"
   ]
  },
  {
   "cell_type": "code",
   "execution_count": 3,
   "id": "be872d17",
   "metadata": {},
   "outputs": [],
   "source": [
    "#helper method to add user messages\n",
    "def add_user_message(messages, text):\n",
    "    user_message = {\"role\": \"user\", \"content\": text}\n",
    "    messages.append(user_message)\n",
    "\n",
    "#helper method to add assistant messages\n",
    "def add_assistant_message(messages, text):\n",
    "    assistant_message = {\"role\": \"assistant\", \"content\": text}\n",
    "    messages.append(assistant_message)\n",
    "\n",
    "#Make a request to the API\n",
    "def chat(messages,system=None,temperature=1.0,stop_sequences=[]):\n",
    "    params ={\n",
    "        \"model\": model,\n",
    "        \"max_tokens\": 1000,\n",
    "        \"messages\": messages,\n",
    "        \"temperature\": temperature,\n",
    "        \"stop_sequences\": stop_sequences\n",
    "    }\n",
    "\n",
    "    if system:\n",
    "        params[\"system\"] = system\n",
    "\n",
    "    response = client.messages.create(**params)\n",
    "    return response.content[0].text  # Return the text of the first message in the response\n",
    "\n",
    "#Usage of system Prompts"
   ]
  },
  {
   "cell_type": "code",
   "execution_count": null,
   "id": "33b95086",
   "metadata": {},
   "outputs": [],
   "source": [
    "# Start with an empty message list\n",
    "# Generating structured data\n",
    "messages = []\n",
    "\n",
    "add_user_message(\n",
    "    messages,\n",
    "    \"Geenrate a aws json policy that allows a user to read objects in an S3 bucket called 'my-bucket'\")\n",
    "\n",
    "add_assistant_message(messages,\"```json\")\n",
    "\n",
    "# add_assistant_message(\n",
    "#     messages,\n",
    "#     \"Neither is very good because\"\n",
    "# )\n",
    "\n",
    "answer = chat(\n",
    "    messages,stop_sequences=[\"```\"])\n",
    "\n",
    "answer\n"
   ]
  },
  {
   "cell_type": "code",
   "execution_count": null,
   "id": "a9ab8f4c",
   "metadata": {},
   "outputs": [],
   "source": [
    "import json\n",
    "\n",
    "# Parse the JSON response\n",
    "json.loads(answer.strip())"
   ]
  },
  {
   "cell_type": "code",
   "execution_count": null,
   "id": "51410a9c",
   "metadata": {},
   "outputs": [],
   "source": [
    "#excerise\n",
    "\n",
    "\n",
    "# Start with an empty message list\n",
    "# Generating structured data\n",
    "messages = []\n",
    "\n",
    "\n",
    "prompt = \"Generate three different AWS CLI commands.Each should be very short\"\n",
    "\n",
    "add_user_message(messages,prompt)\n",
    "\n",
    "add_assistant_message(messages,\"Here are all three commands in single block without any comments: ```bash\")\n",
    "\n",
    "answer = chat(\n",
    "    messages,stop_sequences=[\"```\"])\n",
    "\n",
    "answer"
   ]
  },
  {
   "cell_type": "code",
   "execution_count": null,
   "id": "cba74667",
   "metadata": {},
   "outputs": [],
   "source": [
    "from IPython.display import Markdown\n",
    "\n",
    "Markdown(answer)"
   ]
  }
 ],
 "metadata": {
  "kernelspec": {
   "display_name": "base",
   "language": "python",
   "name": "python3"
  },
  "language_info": {
   "codemirror_mode": {
    "name": "ipython",
    "version": 3
   },
   "file_extension": ".py",
   "mimetype": "text/x-python",
   "name": "python",
   "nbconvert_exporter": "python",
   "pygments_lexer": "ipython3",
   "version": "3.12.7"
  }
 },
 "nbformat": 4,
 "nbformat_minor": 5
}
