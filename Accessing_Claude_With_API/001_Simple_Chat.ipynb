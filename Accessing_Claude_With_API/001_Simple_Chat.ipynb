{
 "cells": [
  {
   "cell_type": "code",
   "execution_count": null,
   "id": "795f8267-09e8-460a-8e51-f126a377ec84",
   "metadata": {},
   "outputs": [],
   "source": [
    "#Install Dependencies\n",
    "%pip install anthropic python-dotenv"
   ]
  },
  {
   "cell_type": "code",
   "execution_count": 2,
   "id": "88ff6e3d-8845-4866-bc7c-f92c248a5d49",
   "metadata": {},
   "outputs": [
    {
     "data": {
      "text/plain": [
       "True"
      ]
     },
     "execution_count": 2,
     "metadata": {},
     "output_type": "execute_result"
    }
   ],
   "source": [
    "#load environment variables\n",
    "from dotenv import load_dotenv  \n",
    "load_dotenv()"
   ]
  },
  {
   "cell_type": "code",
   "execution_count": 3,
   "id": "bbd8becc",
   "metadata": {},
   "outputs": [],
   "source": [
    "#Create API client\n",
    "from anthropic import Anthropic\n",
    "client = Anthropic()\n",
    "model = \"claude-sonnet-4-0\"\n"
   ]
  },
  {
   "cell_type": "code",
   "execution_count": 4,
   "id": "be872d17",
   "metadata": {},
   "outputs": [],
   "source": [
    "#helper method to add user messages\n",
    "def add_user_message(messages, text):\n",
    "    user_message = {\"role\": \"user\", \"content\": text}\n",
    "    messages.append(user_message)\n",
    "\n",
    "#helper method to add assistant messages\n",
    "def add_assistant_message(messages, text):\n",
    "    assistant_message = {\"role\": \"assistant\", \"content\": text}\n",
    "    messages.append(assistant_message)\n",
    "\n",
    "#Make a request to the API\n",
    "def chat(messages):\n",
    "    response = client.messages.create(\n",
    "        model=model,\n",
    "        max_tokens=1000,\n",
    "        messages=messages\n",
    "    )\n",
    "    return response.content[0].text  # Return the text of the first message in the response\n",
    "# message = client.messages.create(\n",
    "#     model = model,\n",
    "#     max_tokens = 1000,\n",
    "#     messages = [\n",
    "#         {\n",
    "#             \"role\": \"user\",\n",
    "#             \"content\": \"What is quantum computing? Answer in one sentence.\"\n",
    "#         }\n",
    "#     ]\n",
    "# )\n",
    "#Each message is a dictionary with a role (either \"user\" or \"assistant\") and content (the actual text).\n",
    "\n",
    "# message = client.messages.create(\n",
    "#     model = model,\n",
    "#     max_tokens = 1000,\n",
    "#     messages = [\n",
    "#         {\n",
    "#             \"role\": \"user\",\n",
    "#             \"content\": \"Write another sentence.\"\n",
    "#         }\n",
    "#     ]\n",
    "# )\n",
    "# Claude doesn't store any of your conversation history. Each request you make is completely independent, with no memory of previous exchanges."
   ]
  },
  {
   "cell_type": "code",
   "execution_count": null,
   "id": "33b95086",
   "metadata": {},
   "outputs": [],
   "source": [
    "# Start with an empty message list\n",
    "messages = []\n",
    "\n",
    "#use while loop to keep the conversation going\n",
    "while True:\n",
    "    # Add a user message to the conversation\n",
    "    user_input = input(\"You: \")\n",
    "    \n",
    "    # If the user types 'exit', break the loop\n",
    "    if user_input.lower() == 'exit':\n",
    "        print(\"Exiting the conversation.\")\n",
    "        break\n",
    "    \n",
    "    print(\"You:\", user_input)\n",
    "    # Add user's question to the conversation\n",
    "    add_user_message(messages, user_input)\n",
    "    \n",
    "    # Get Claude's response\n",
    "    answer = chat(messages)\n",
    "    print(\"Assistant:\", answer)\n",
    "    \n",
    "    # Add Claude's response to the conversation\n",
    "    add_assistant_message(messages, answer)\n",
    "\n",
    "# # Add the initial user question\n",
    "# add_user_message(messages, \"Define quantum computing in one sentence\")\n",
    "\n",
    "# # Get Claude's response\n",
    "# answer = chat(messages)\n",
    "\n",
    "# # Add Claude's response to the conversation history\n",
    "# add_assistant_message(messages, answer)\n",
    "\n",
    "# # Add a follow-up question\n",
    "# add_user_message(messages, \"Write another sentence\")\n",
    "\n",
    "# # Get the follow-up response with full context\n",
    "# final_answer = chat(messages)\n",
    "\n",
    "# #print the final answer\n",
    "# final_answer"
   ]
  }
 ],
 "metadata": {
  "kernelspec": {
   "display_name": "base",
   "language": "python",
   "name": "python3"
  },
  "language_info": {
   "codemirror_mode": {
    "name": "ipython",
    "version": 3
   },
   "file_extension": ".py",
   "mimetype": "text/x-python",
   "name": "python",
   "nbconvert_exporter": "python",
   "pygments_lexer": "ipython3",
   "version": "3.12.7"
  }
 },
 "nbformat": 4,
 "nbformat_minor": 5
}
