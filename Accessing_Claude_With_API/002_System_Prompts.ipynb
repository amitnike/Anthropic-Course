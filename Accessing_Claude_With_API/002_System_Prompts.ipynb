{
 "cells": [
  {
   "cell_type": "code",
   "execution_count": 1,
   "id": "88ff6e3d-8845-4866-bc7c-f92c248a5d49",
   "metadata": {},
   "outputs": [
    {
     "data": {
      "text/plain": [
       "True"
      ]
     },
     "execution_count": 1,
     "metadata": {},
     "output_type": "execute_result"
    }
   ],
   "source": [
    "#load environment variables\n",
    "from dotenv import load_dotenv  \n",
    "load_dotenv()"
   ]
  },
  {
   "cell_type": "code",
   "execution_count": 3,
   "id": "bbd8becc",
   "metadata": {},
   "outputs": [],
   "source": [
    "#Create API client\n",
    "from anthropic import Anthropic\n",
    "client = Anthropic()\n",
    "model = \"claude-sonnet-4-0\"\n"
   ]
  },
  {
   "cell_type": "code",
   "execution_count": 11,
   "id": "be872d17",
   "metadata": {},
   "outputs": [],
   "source": [
    "#helper method to add user messages\n",
    "def add_user_message(messages, text):\n",
    "    user_message = {\"role\": \"user\", \"content\": text}\n",
    "    messages.append(user_message)\n",
    "\n",
    "#helper method to add assistant messages\n",
    "def add_assistant_message(messages, text):\n",
    "    assistant_message = {\"role\": \"assistant\", \"content\": text}\n",
    "    messages.append(assistant_message)\n",
    "\n",
    "#Make a request to the API\n",
    "def chat(messages,system=None):\n",
    "    params ={\n",
    "        \"model\": model,\n",
    "        \"max_tokens\": 1000,\n",
    "        \"messages\": messages\n",
    "    }\n",
    "\n",
    "    if system:\n",
    "        params[\"system\"] = system\n",
    "\n",
    "    response = client.messages.create(**params)\n",
    "    return response.content[0].text  # Return the text of the first message in the response\n",
    "\n",
    "#Usage of system Prompts"
   ]
  },
  {
   "cell_type": "code",
   "execution_count": 19,
   "id": "33b95086",
   "metadata": {},
   "outputs": [
    {
     "data": {
      "text/plain": [
       "'Here\\'s a Python function that checks a string for duplicate characters:\\n\\n```python\\ndef has_duplicates(s):\\n    \"\"\"\\n    Check if a string contains duplicate characters.\\n    \\n    Args:\\n        s (str): The string to check\\n        \\n    Returns:\\n        bool: True if duplicates exist, False otherwise\\n    \"\"\"\\n    return len(s) != len(set(s))\\n```\\n\\nHere\\'s an alternative version that returns the duplicate characters:\\n\\n```python\\ndef find_duplicates(s):\\n    \"\"\"\\n    Find all duplicate characters in a string.\\n    \\n    Args:\\n        s (str): The string to check\\n        \\n    Returns:\\n        set: Set of duplicate characters\\n    \"\"\"\\n    seen = set()\\n    duplicates = set()\\n    \\n    for char in s:\\n        if char in seen:\\n            duplicates.add(char)\\n        else:\\n            seen.add(char)\\n    \\n    return duplicates\\n```\\n\\nUsage examples:\\n\\n```python\\n# Check for duplicates (returns True/False)\\nprint(has_duplicates(\"hello\"))     # True (l appears twice)\\nprint(has_duplicates(\"world\"))     # True (l appears twice)\\nprint(has_duplicates(\"python\"))    # False (no duplicates)\\n\\n# Find specific duplicate characters\\nprint(find_duplicates(\"hello\"))    # {\\'l\\'}\\nprint(find_duplicates(\"aabbcc\"))   # {\\'a\\', \\'b\\', \\'c\\'}\\nprint(find_duplicates(\"python\"))   # set() (empty set)\\n```\\n\\nThe first function is more efficient for simply checking if duplicates exist, while the second is useful when you need to know which characters are duplicated.'"
      ]
     },
     "execution_count": 19,
     "metadata": {},
     "output_type": "execute_result"
    }
   ],
   "source": [
    "# Start with an empty message list\n",
    "messages = []\n",
    "\n",
    "# system=\"\"\"\n",
    "# You are a patient math tutor.\n",
    "# Do not directly answer a student's question.\n",
    "# Guide them to the solution step by step.\n",
    "# \"\"\"\n",
    "\n",
    "system=\"\"\"\n",
    "You are Python engineer who Writes very clear and concise code to the given question.\n",
    "\"\"\"\n",
    "\n",
    "add_user_message(messages, \"Write a python function that checks a string for duplicate characters.\")\n",
    "answer = chat(messages,system=system)\n",
    "\n",
    "answer"
   ]
  }
 ],
 "metadata": {
  "kernelspec": {
   "display_name": "base",
   "language": "python",
   "name": "python3"
  },
  "language_info": {
   "codemirror_mode": {
    "name": "ipython",
    "version": 3
   },
   "file_extension": ".py",
   "mimetype": "text/x-python",
   "name": "python",
   "nbconvert_exporter": "python",
   "pygments_lexer": "ipython3",
   "version": "3.12.7"
  }
 },
 "nbformat": 4,
 "nbformat_minor": 5
}
